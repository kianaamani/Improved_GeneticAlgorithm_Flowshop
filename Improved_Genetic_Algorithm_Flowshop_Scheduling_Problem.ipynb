{
  "nbformat": 4,
  "nbformat_minor": 0,
  "metadata": {
    "colab": {
      "provenance": []
    },
    "kernelspec": {
      "name": "python3",
      "display_name": "Python 3"
    },
    "language_info": {
      "name": "python"
    }
  },
  "cells": [
    {
      "cell_type": "markdown",
      "source": [
        "# **Import Libraries**"
      ],
      "metadata": {
        "id": "hJBd6uHd_N0B"
      }
    },
    {
      "cell_type": "code",
      "execution_count": 1,
      "metadata": {
        "id": "vB9ZkCzOE2uD"
      },
      "outputs": [],
      "source": [
        "#Import Libraries\n",
        "import numpy as np\n",
        "import itertools\n",
        "import queue\n",
        "import pandas as pd\n",
        "from IPython.display import display, Markdown\n",
        "import random\n",
        "import sys\n",
        "import time\n",
        "import math\n",
        "import tqdm\n",
        "import matplotlib\n",
        "matplotlib.use('Agg')\n",
        "import matplotlib.pyplot as plt\n",
        "import csv"
      ]
    },
    {
      "cell_type": "markdown",
      "source": [
        "# **Import Dataset**"
      ],
      "metadata": {
        "id": "O7cWcbfT_TSb"
      }
    },
    {
      "cell_type": "code",
      "source": [
        "filename = \"your_dataset.csv\"\n",
        "\n",
        "f = open(filename, 'r')\n",
        "l = csv.reader(f)\n",
        "\n",
        "# number of jobs\n",
        "n = int(next(l)[0])\n",
        "\n",
        "# number of machines\n",
        "m = int(next(l)[0])\n",
        "\n",
        "# Read the processing times from the CSV file\n",
        "processing_time_job_on_machine = []\n",
        "for _ in range(n):\n",
        "    row = list(map(int, next(l)))\n",
        "    processing_time_job_on_machine.append(row)\n",
        "\n",
        "# Convert the processing times to a NumPy array for easier manipulation\n",
        "processing_time_job_on_machine = np.array(processing_time_job_on_machine)\n",
        "\n",
        "# Calculate the processing time of each job on all machines\n",
        "Processing_times = []\n",
        "for job_index in range(n):\n",
        "    processing_time_per_machine = []\n",
        "    for machine_index in range(m):\n",
        "        processing_time = processing_time_job_on_machine[job_index, machine_index]\n",
        "        processing_time_per_machine.append(processing_time)\n",
        "    Processing_times.append(processing_time_per_machine)\n",
        "\n",
        "f.close()"
      ],
      "metadata": {
        "id": "nXdracXqE75v"
      },
      "execution_count": 2,
      "outputs": []
    },
    {
      "cell_type": "markdown",
      "source": [
        "# **Initial Population**"
      ],
      "metadata": {
        "id": "IqSq5jbh_Wz5"
      }
    },
    {
      "cell_type": "code",
      "source": [
        "# Initial population\n",
        "def initialization(Ps):\n",
        "    pop = []\n",
        "    for i in range(Ps):\n",
        "        p = list(np.random.permutation(n))\n",
        "        while p in pop:\n",
        "            p = list(np.random.permutation(n))\n",
        "        pop.append(p)\n",
        "    return pop"
      ],
      "metadata": {
        "id": "Bf6EF6nhFAWS"
      },
      "execution_count": 3,
      "outputs": []
    },
    {
      "cell_type": "markdown",
      "source": [
        "# **Calculate Objective Value**"
      ],
      "metadata": {
        "id": "yDOBRE5k_cRL"
      }
    },
    {
      "cell_type": "code",
      "source": [
        "def calculateObj(sol):\n",
        "    qTime = queue.PriorityQueue()\n",
        "\n",
        "    qMachines = []\n",
        "    for i in range(m):\n",
        "        qMachines.append(queue.Queue())\n",
        "\n",
        "    for i in range(n):\n",
        "        qMachines[0].put(sol[i])\n",
        "\n",
        "    busyMachines = []\n",
        "    for i in range(m):\n",
        "        busyMachines.append(False)\n",
        "\n",
        "    time = 0\n",
        "\n",
        "    job = qMachines[0].get()\n",
        "    qTime.put((time+Processing_times[job][0], 0, job))\n",
        "    busyMachines[0] = True\n",
        "\n",
        "    while True:\n",
        "        time, mach, job = qTime.get()\n",
        "        if job == sol[n-1] and mach == m-1:\n",
        "            break\n",
        "        busyMachines[mach] = False\n",
        "        if not qMachines[mach].empty():\n",
        "                j = qMachines[mach].get()\n",
        "                qTime.put((time+Processing_times[j][mach], mach, j))\n",
        "                busyMachines[mach] = True\n",
        "        if mach < m-1:\n",
        "            if busyMachines[mach+1] == False:\n",
        "                qTime.put((time+Processing_times[job][mach+1], mach+1, job))\n",
        "                busyMachines[mach+1] = True\n",
        "            else:\n",
        "                qMachines[mach+1].put(job)\n",
        "\n",
        "    return time"
      ],
      "metadata": {
        "id": "WbcfHPE3FAzs"
      },
      "execution_count": 4,
      "outputs": []
    },
    {
      "cell_type": "markdown",
      "source": [
        "# **Selection:**\n",
        "**Tournoment Selection**\n",
        "\n",
        "\n",
        "\n",
        "**Roulette wheel Selection**"
      ],
      "metadata": {
        "id": "pRAc-TJc_oSW"
      }
    },
    {
      "cell_type": "code",
      "source": [
        "######### Selection #########\n",
        "\n",
        "def fitness(time):\n",
        "    if time > 0:\n",
        "        return 1/time\n",
        "\n",
        "\n",
        "\n",
        "# Tournament selection\n",
        "def tournament_selection(population, tournament_size):\n",
        "    parents = []\n",
        "    for _ in range(2):\n",
        "        tournament_candidates = random.sample(population, tournament_size)\n",
        "        tournament_winner = min(tournament_candidates, key=lambda x: calculateObj(x))\n",
        "        parents.append(tournament_winner)\n",
        "    return parents\n",
        "\n",
        "\n",
        "\n",
        "# Roulette wheel selection\n",
        "def roulette_wheel_selection(population):\n",
        "    fitness_values = [fitness(calculateObj(ind)) for ind in population]\n",
        "    total_fitness = sum(fitness_values)\n",
        "\n",
        "    probabilities = [fit / total_fitness for fit in fitness_values]\n",
        "\n",
        "    selected_indices = np.random.choice(len(population), size=2, p=probabilities)\n",
        "\n",
        "    parents = [population[idx] for idx in selected_indices]\n",
        "\n",
        "    return parents"
      ],
      "metadata": {
        "id": "pMOvT9OWFAxC"
      },
      "execution_count": 5,
      "outputs": []
    },
    {
      "cell_type": "markdown",
      "source": [
        "# **Crossover:**\n",
        "\n",
        "**Two point Crossover**\n",
        "\n",
        "**Linear Order Crossover**\n",
        "\n",
        "**partially mapped crossover**\n",
        "\n",
        "**similar job order crossover**"
      ],
      "metadata": {
        "id": "Xl46b5EN_13L"
      }
    },
    {
      "cell_type": "code",
      "source": [
        "######## Crossover #########\n",
        "\n",
        "#Two point Crossover\n",
        "\n",
        "def two_point_crossover(parents):\n",
        "    pos = list(np.random.permutation(np.arange(n-1)+1)[:2])\n",
        "\n",
        "    if pos[0] > pos[1]:\n",
        "        pos[0], pos[1] = pos[1], pos[0]\n",
        "\n",
        "    child1 = list(parents[0])\n",
        "    child2 = list(parents[1])\n",
        "\n",
        "\n",
        "    for i in range(pos[0], pos[1]):\n",
        "        child1[i] = -1\n",
        "        child2[i] = -1\n",
        "\n",
        "    # Fill remaining elements by scanning the other parent\n",
        "    p1, p2 = -1, -1\n",
        "    for i in range(pos[0], pos[1]):\n",
        "        while True:\n",
        "            p1 += 1\n",
        "            if parents[1][p1] not in child1:\n",
        "                child1[i] = parents[1][p1]\n",
        "                break\n",
        "\n",
        "    for i in range(pos[0], pos[1]):\n",
        "        while True:\n",
        "            p2 += 1\n",
        "            if parents[0][p2] not in child2:\n",
        "              child2[i] = parents[0][p2]\n",
        "              break\n",
        "\n",
        "\n",
        "    return [child1, child2]\n",
        "\n",
        "\n",
        "\n",
        "\n",
        "#Linear Order Crossover\n",
        "\n",
        "def linearly_order_crossover(parents):\n",
        "    pos = list(np.random.permutation(np.arange(n - 1) + 1)[:2])\n",
        "\n",
        "    if pos[0] > pos[1]:\n",
        "        pos[0], pos[1] = pos[1], pos[0]\n",
        "\n",
        "    child1 = [-1] * n\n",
        "    child2 = [-1] * n\n",
        "\n",
        "\n",
        "\n",
        "    # Copy a segment from the first parent to the child1 and second parent to the child2\n",
        "    child1[pos[0]:pos[1] + 1] = parents[0][pos[0]:pos[1] + 1]\n",
        "    child2[pos[0]:pos[1] + 1] = parents[1][pos[0]:pos[1] + 1]\n",
        "\n",
        "    # Fill in the remaining positions of child1 with the genes from the second parent and child2 with the genes from the first parent\n",
        "    p1, p2 = -1, -1\n",
        "    for i in range(n):\n",
        "        if child1[i] == -1:\n",
        "            while True:\n",
        "                p1 += 1\n",
        "                if parents[1][p1] not in child1:\n",
        "                    child1[i] = parents[1][p1]\n",
        "                    break\n",
        "\n",
        "    for i in range(n):\n",
        "        if child2[i] == -1:\n",
        "            while True:\n",
        "                p2 += 1\n",
        "                if parents[0][p2] not in child2:\n",
        "                    child2[i] = parents[0][p2]\n",
        "                    break\n",
        "\n",
        "    return [child1, child2]\n",
        "\n",
        "\n",
        "\n",
        "\n",
        "\n",
        "# PMX (partially mapped crossover)\n",
        "\n",
        "def partially_mapped_crossover(parents):\n",
        "    pos = list(np.random.permutation(np.arange(n - 1) + 1)[:2])\n",
        "\n",
        "    if pos[0] > pos[1]:\n",
        "        pos[0], pos[1] = pos[1], pos[0]\n",
        "\n",
        "    child1 = parents[0].copy()\n",
        "    child2 = parents[1].copy()\n",
        "\n",
        "    mapping_1 = parents[0][pos[0]:pos[1] + 1]\n",
        "    mapping_2 = parents[1][pos[0]:pos[1] + 1]\n",
        "\n",
        "\n",
        "    func_1 = list(zip(mapping_1, mapping_2))\n",
        "\n",
        "\n",
        "    for i in range(len(child1)):\n",
        "        for element_1, element_2 in func_1:\n",
        "            if child1[i] == element_1:\n",
        "                child1[i] = element_2\n",
        "            elif child1[i] == element_2:\n",
        "                child1[i] = element_1\n",
        "\n",
        "    for i in range(len(child2)):\n",
        "        for element_1, element_2 in func_1:\n",
        "            if child2[i] == element_1:\n",
        "                child2[i] = element_2\n",
        "            elif child2[i] == element_2:\n",
        "                child2[i] = element_1\n",
        "\n",
        "    return [child1, child2]\n",
        "\n",
        "\n",
        "\n",
        "\n",
        "\n",
        "# SJOX (similar job order crossover)\n",
        "\n",
        "def similar_job_order_crossover(parents):\n",
        "\n",
        "    pos = random.randrange(1, n-1)\n",
        "\n",
        "    child1 = [-1]*len(parents[0])\n",
        "    child2 = [-1]*len(parents[1])\n",
        "    for idx, (a, b) in enumerate(list(zip(parents[0], parents[1]))):\n",
        "      if a == b:\n",
        "        child1[idx] = a\n",
        "        child2[idx] = b\n",
        "\n",
        "\n",
        "    child1[:pos] = parents[0][:pos]\n",
        "    child2[:pos] = parents[1][:pos]\n",
        "\n",
        "    in_parent2_not_in_child1 = [i for i in parents[1] if i not in child1]\n",
        "    in_parent1_not_in_child2 = [i for i in parents[0] if i not in child2]\n",
        "\n",
        "\n",
        "    j_1 = 0\n",
        "\n",
        "    for i in range(len(child1)):\n",
        "      if child1[i] == -1:\n",
        "        child1[i] = in_parent2_not_in_child1[j_1]\n",
        "        j_1 += 1\n",
        "\n",
        "\n",
        "    j_2 = 0\n",
        "\n",
        "    for i in range(len(child2)):\n",
        "      if child2[i] == -1:\n",
        "        child2[i] = in_parent1_not_in_child2[j_2]\n",
        "        j_2 += 1\n",
        "\n",
        "    return [child1, child2]"
      ],
      "metadata": {
        "id": "VRXDK9fuFAt_"
      },
      "execution_count": 6,
      "outputs": []
    },
    {
      "cell_type": "markdown",
      "source": [
        "# **Mutation**\n",
        "\n",
        "**Arbitrary three-jobs change**\n",
        "\n",
        "**Arbitrary two-jobs change**\n",
        "\n",
        "**Shift change**"
      ],
      "metadata": {
        "id": "ZPNi1hEOAKz0"
      }
    },
    {
      "cell_type": "code",
      "source": [
        "####### Mutation #######\n",
        "\n",
        "#Arbitrary three-jobs change\n",
        "\n",
        "def three_job_change(sol):\n",
        "    selected_jobs = random.sample(sol, 3)\n",
        "\n",
        "    jobs_idx = [sol.index(job) for job in selected_jobs]\n",
        "\n",
        "    random.shuffle(selected_jobs)\n",
        "\n",
        "    z = 0\n",
        "    for i in jobs_idx:\n",
        "        sol[i] = selected_jobs[z]\n",
        "        z += 1\n",
        "\n",
        "    return sol\n",
        "\n",
        "\n",
        "\n",
        "#Arbitrary two-jobs change\n",
        "\n",
        "def two_job_change(sol):\n",
        "    selected_jobs = random.sample(sol, 2)\n",
        "    jobs_idx = [sol.index(job) for job in selected_jobs]\n",
        "\n",
        "    random.shuffle(selected_jobs)\n",
        "\n",
        "    z = 0\n",
        "    for i in jobs_idx:\n",
        "        sol[i] = selected_jobs[z]\n",
        "        z += 1\n",
        "\n",
        "    return sol\n",
        "\n",
        "\n",
        "\n",
        "#Shift change\n",
        "\n",
        "def shift_change(sol):\n",
        "    pos = list(np.random.permutation(np.arange(n))[:2])\n",
        "\n",
        "    if pos[0] > pos[1]:\n",
        "        t = pos[0]\n",
        "        pos[0] = pos[1]\n",
        "        pos[1] = t\n",
        "\n",
        "    remJob = sol[pos[1]]\n",
        "\n",
        "    for i in range(pos[1], pos[0], -1):\n",
        "        sol[i] = sol[i-1]\n",
        "\n",
        "    sol[pos[0]] = remJob\n",
        "\n",
        "    return sol"
      ],
      "metadata": {
        "id": "bEU-uc4YFAq5"
      },
      "execution_count": 7,
      "outputs": []
    },
    {
      "cell_type": "markdown",
      "source": [
        "# **Elitist Strategy**"
      ],
      "metadata": {
        "id": "7PZSOl4LAWOG"
      }
    },
    {
      "cell_type": "code",
      "source": [
        "############# Elitist Strategy ###############\n",
        "\n",
        "def elitistUpdate(oldPop, newPop):\n",
        "    C_max_old = []\n",
        "    for j in range(len(oldPop)):\n",
        "        C_max_old.append(calculateObj(oldPop[j]))\n",
        "\n",
        "    oldPop_Cmax = list(zip(oldPop,C_max_old))\n",
        "\n",
        "    sorted_oldPop_Cmax = sorted(oldPop_Cmax, key=lambda x: x[1])\n",
        "#    oldPop = sorted_oldPop_Cmax[:][0]\n",
        "    oldPop = [element[0] for element in sorted_oldPop_Cmax]\n",
        "    C_max_new = []\n",
        "    for a in range(len(newPop)):\n",
        "        C_max_new.append(calculateObj(newPop[a]))\n",
        "\n",
        "    newPop_Cmax = list(zip(newPop, C_max_new))\n",
        "\n",
        "    sorted_newPop_Cmax = sorted(newPop_Cmax, key=lambda x: x[1])\n",
        "    newPop = [element[0] for element in sorted_newPop_Cmax]\n",
        "    bestSolsIndex = [0, 1]\n",
        "    bestSols = [calculateObj(oldPop[0]), calculateObj(oldPop[1])]\n",
        "\n",
        "\n",
        "    for i in range(2, len(oldPop)):\n",
        "        tempObj = calculateObj(oldPop[i])\n",
        "        for idx in bestSolsIndex:\n",
        "            if tempObj < bestSols[idx]:\n",
        "                bestSols[idx] = tempObj\n",
        "                bestSolsIndex[idx] = i\n",
        "\n",
        "    newPop[-1] = oldPop[bestSolsIndex[0]]\n",
        "    newPop[-2] = oldPop[bestSolsIndex[1]]\n",
        "\n",
        "    return newPop"
      ],
      "metadata": {
        "id": "OzR2noHhFAn4"
      },
      "execution_count": null,
      "outputs": []
    },
    {
      "cell_type": "code",
      "source": [
        "def elitistUpdate(population, new_population):\n",
        "    best_idx, _ = findBestSolution(population)\n",
        "    worst_idx1, _ = findWorstSolution(population)\n",
        "    worst_idx2, _ = findWorstSolution(population)\n",
        "\n",
        "    # Replace two worst solutions with the best solution and a new random solution\n",
        "    population[worst_idx1] = population[best_idx].copy()\n",
        "    population[worst_idx2] = new_population.copy()\n",
        "\n",
        "    return population\n",
        "\n",
        "def findWorstSolution(population):\n",
        "    worstObj = calculateObj(population[0])\n",
        "    worstInd = 0\n",
        "    for i in range(1, len(population)):\n",
        "        tObj = calculateObj(population[i])\n",
        "        if tObj > worstObj:\n",
        "            worstObj = tObj\n",
        "            worstInd = i\n",
        "    return worstInd, worstObj"
      ],
      "metadata": {
        "id": "tqa4vXGWPAiC"
      },
      "execution_count": null,
      "outputs": []
    },
    {
      "cell_type": "markdown",
      "source": [
        "# **Find Best Solution**"
      ],
      "metadata": {
        "id": "Yeh2Yvp2AgnB"
      }
    },
    {
      "cell_type": "code",
      "source": [
        "# Returns best solution's index number, best solution's objective value and average objective value of the given population.\n",
        "def findBestSolution(pop):\n",
        "    bestObj = calculateObj(pop[0])\n",
        "    bestInd = 0\n",
        "    for i in range(1, len(pop)):\n",
        "        tObj = calculateObj(pop[i])\n",
        "        if tObj < bestObj:\n",
        "            bestObj = tObj\n",
        "            bestInd = i\n",
        "\n",
        "    return bestInd, bestObj"
      ],
      "metadata": {
        "id": "AB3p6rm0FVCG"
      },
      "execution_count": 8,
      "outputs": []
    },
    {
      "cell_type": "markdown",
      "source": [
        "# **Main**"
      ],
      "metadata": {
        "id": "SqFRmKm7AlyO"
      }
    },
    {
      "cell_type": "code",
      "source": [
        "########### main #############\n",
        "\n",
        "### Step 0 ###\n",
        "# Number of population\n",
        "Ps = 5\n",
        "\n",
        "# Probability of crossover\n",
        "Pc = 1.0\n",
        "\n",
        "# Probability of mutation\n",
        "Pm = 1.0\n",
        "\n",
        "# Probability for tournament selection\n",
        "Pto = 1.0\n",
        "\n",
        "# Probability for roulette wheel selection\n",
        "Pro = 1.0\n",
        "\n",
        "# Probability for two-point crossover\n",
        "Pt = 1.0\n",
        "\n",
        "# Probability for PMX crossover\n",
        "Pp = 1.0\n",
        "\n",
        "# Probability for SJOX crossover\n",
        "Psj = 1.0\n",
        "\n",
        "# Probability for LOX crossover\n",
        "Pl = 1.0\n",
        "\n",
        "# Probability for Arbitrary three-job change mutation\n",
        "P3j = 1.0\n",
        "\n",
        "# Probability for Arbitrary two-job change mutation\n",
        "P2j = 1.0\n",
        "\n",
        "# Probability for Shift change mutation\n",
        "Psh = 1.0\n",
        "\n",
        "# Constant for mutation multiplier\n",
        "E = 2\n",
        "\n",
        "# Generation limit for inserting new randomly generated chromosomes\n",
        "Gp = 50\n",
        "\n",
        "# Generation limit constant for changing mutation probability\n",
        "Gm = 30\n",
        "\n",
        "\n",
        "k = 1\n",
        "\n",
        "\n",
        "# Stopping number for generation\n",
        "Ng = 100\n",
        "\n",
        "\n",
        "# Creating the initial population\n",
        "population = initialization(Ps)\n",
        "\n",
        "population"
      ],
      "metadata": {
        "colab": {
          "base_uri": "https://localhost:8080/"
        },
        "id": "lMBCmPHIFU_M",
        "outputId": "3e78bc55-0bf1-46e5-8939-1c0362dc7ce6"
      },
      "execution_count": 25,
      "outputs": [
        {
          "output_type": "execute_result",
          "data": {
            "text/plain": [
              "[[8, 7, 2, 0, 3, 9, 1, 10, 4, 5, 6],\n",
              " [4, 0, 5, 3, 10, 8, 1, 2, 6, 7, 9],\n",
              " [7, 0, 6, 3, 8, 2, 5, 4, 9, 10, 1],\n",
              " [4, 5, 1, 8, 10, 6, 9, 3, 7, 0, 2],\n",
              " [6, 10, 2, 4, 1, 3, 8, 5, 0, 9, 7]]"
            ]
          },
          "metadata": {},
          "execution_count": 25
        }
      ]
    },
    {
      "cell_type": "code",
      "source": [
        "### Step 1 ###\n",
        "C_max = []\n",
        "for i in population:\n",
        "    C_max1 = calculateObj(i)\n",
        "    C_max.append(C_max1)\n",
        "pop_Cmax = list(zip(population,C_max))\n",
        "\n",
        "sorted_pop_Cmax = sorted(pop_Cmax, key=lambda x: x[1])\n",
        "\n",
        "X_s = sorted_pop_Cmax[0][0]\n",
        "X_ss = sorted_pop_Cmax[1][0]\n",
        "\n",
        "print(\"Xs = \", X_s)\n",
        "print(\"Xss = \", X_ss)"
      ],
      "metadata": {
        "colab": {
          "base_uri": "https://localhost:8080/"
        },
        "id": "356_1qOQFU8R",
        "outputId": "cb4013c7-fa6b-4ab2-f5af-da1cbf36bf07"
      },
      "execution_count": 26,
      "outputs": [
        {
          "output_type": "stream",
          "name": "stdout",
          "text": [
            "Xs =  [4, 5, 1, 8, 10, 6, 9, 3, 7, 0, 2]\n",
            "Xss =  [8, 7, 2, 0, 3, 9, 1, 10, 4, 5, 6]\n"
          ]
        }
      ]
    },
    {
      "cell_type": "code",
      "source": [
        "### Step 2 ###\n",
        "Mk = [sorted_pop_Cmax[0][1]]\n",
        "\n",
        "\n",
        "population = [element[0] for element in sorted_pop_Cmax]\n",
        "\n",
        "print(\"Sorted population: \", population)\n",
        "print(\"Mk: \", Mk)"
      ],
      "metadata": {
        "colab": {
          "base_uri": "https://localhost:8080/"
        },
        "id": "9QrspLdgFU5p",
        "outputId": "42872862-8df1-4e75-d757-56d928d5c6ac"
      },
      "execution_count": 27,
      "outputs": [
        {
          "output_type": "stream",
          "name": "stdout",
          "text": [
            "Sorted population:  [[4, 5, 1, 8, 10, 6, 9, 3, 7, 0, 2], [8, 7, 2, 0, 3, 9, 1, 10, 4, 5, 6], [4, 0, 5, 3, 10, 8, 1, 2, 6, 7, 9], [6, 10, 2, 4, 1, 3, 8, 5, 0, 9, 7], [7, 0, 6, 3, 8, 2, 5, 4, 9, 10, 1]]\n",
            "Mk:  [197]\n"
          ]
        }
      ]
    },
    {
      "cell_type": "code",
      "source": [
        "Mk"
      ],
      "metadata": {
        "colab": {
          "base_uri": "https://localhost:8080/"
        },
        "id": "IbEq7-vw8uad",
        "outputId": "de3c8fd2-46d1-4f93-8b15-6965b2a02bfc"
      },
      "execution_count": 28,
      "outputs": [
        {
          "output_type": "execute_result",
          "data": {
            "text/plain": [
              "[197]"
            ]
          },
          "metadata": {},
          "execution_count": 28
        }
      ]
    },
    {
      "cell_type": "code",
      "source": [
        "# Run the algorithm for 'stopGeneration' times generation\n",
        "### Step 3 ###\n",
        "countmut = 0\n",
        "cntrndpop = 0\n",
        "\n",
        "while k < Ng:\n",
        "    childs = []\n",
        "\n",
        "    Mk = [10000]\n",
        "    if len(Mk) > 1:\n",
        "        if Mk[0] == Mk[1]:\n",
        "            countmut += 1\n",
        "            cntrndpop += 1\n",
        "        else:\n",
        "            countmut = 0\n",
        "            cntrndpop = 0\n",
        "    else:\n",
        "      countmut = 0\n",
        "      cntrndpop = 0\n",
        "\n",
        "\n",
        "    ### Step 4 ###\n",
        "\n",
        "    q = 0\n",
        "    while (q < (Ps//2)):\n",
        "\n",
        "\n",
        "    ### Step 5 ###\n",
        "        # Selecting parents\n",
        "        r = random.random()\n",
        "        if r <= Pto:\n",
        "            parents = tournament_selection(population, tournament_size = 2)\n",
        "        else:\n",
        "            parents = roulette_wheel_selection(population)\n",
        "\n",
        "\n",
        "\n",
        "    ### Step 6 ###\n",
        "\n",
        "        cross_temp = []\n",
        "        # Apply crossover\n",
        "        r = random.random()\n",
        "        if r <= Pc:\n",
        "            r = random.random()\n",
        "            if r <= Pt:\n",
        "                cross_temp.append(two_point_crossover(parents))\n",
        "            elif Pt < r <= (Pt + Pp):\n",
        "                cross_temp.append(partially_mapped_crossover(parents))\n",
        "            elif (Pt + Pp) < r <= (Pt + Pp + Psj):\n",
        "                cross_temp.append(similar_job_order_crossover(parents))\n",
        "            else:\n",
        "                cross_temp.append(linearly_order_crossover(parents))\n",
        "\n",
        "        else:\n",
        "            cross_temp.append(parents)\n",
        "\n",
        "\n",
        "\n",
        "    ### Step 7 ###\n",
        "        # Apply mutation\n",
        "\n",
        "        r = random.random()\n",
        "        if r <= Pm:\n",
        "            r = random.random()\n",
        "            if r <= P3j:\n",
        "                c1 = three_job_change(cross_temp[0][0])\n",
        "                c2 = three_job_change(cross_temp[0][1])\n",
        "            elif P3j < r <= (P3j + P2j):\n",
        "                c1 = two_job_change(cross_temp[0][0])\n",
        "                c2 = two_job_change(cross_temp[0][1])\n",
        "            else:\n",
        "                c1 = shift_change(cross_temp[0][0])\n",
        "                c2 = shift_change(cross_temp[0][1])\n",
        "            cross_temp[0][0] = c1\n",
        "            cross_temp[0][1] = c2\n",
        "        else:\n",
        "            cross_temp[0][0] = c1\n",
        "            cross_temp[0][1] = c2\n",
        "\n",
        "        q += 1\n",
        "\n",
        "\n",
        "\n",
        "    ### Step 9 ###\n",
        "\n",
        "    if countmut > Gm:\n",
        "        Pm = E * Pm\n",
        "    else:\n",
        "        Pm = Pm\n",
        "\n",
        "\n",
        "\n",
        "    ### Stpe 10 ###\n",
        "\n",
        "    if cntrndpop > Gp:\n",
        "        new_Ps = int(0.75 * Ps)\n",
        "        new_population = initialization(new_Ps)\n",
        "        population = new_population + population[new_Ps:]\n",
        "        cntrndpop = 0\n",
        "\n",
        "\n",
        "\n",
        "    ### Step 11 ###\n",
        "\n",
        "    C_max = []\n",
        "\n",
        "    for i in range(Ps):\n",
        "        C_max1 = calculateObj(population[i])\n",
        "        C_max.append(C_max1)\n",
        "\n",
        "    pop_Cmax = list(zip(population,C_max))\n",
        "\n",
        "    sorted_pop_Cmax = sorted(pop_Cmax, key=lambda x: x[1])\n",
        "\n",
        "    X_s = sorted_pop_Cmax[0][0]\n",
        "    X_ss = sorted_pop_Cmax[1][0]\n",
        "\n",
        "    Mk = [sorted_pop_Cmax[0][1]]\n",
        "\n",
        "\n",
        "\n",
        "\n",
        "\n",
        "\n",
        "    ### Step 12 ###\n",
        "    # Update the population\n",
        "\n",
        "#    population = elitistUpdate(population, childs)\n",
        "\n",
        "    population.append(c1)\n",
        "    population.append(c2)\n",
        "\n",
        "    ### Step 13 ###\n",
        "    k += 1\n",
        "\n",
        "\n",
        "    ### Step 14 ###\n",
        "\n",
        "    bestSol, bestObj = findBestSolution(population)\n",
        "\n",
        "    Mk = Mk.append(bestObj)"
      ],
      "metadata": {
        "id": "nbjPUvAOFU2_"
      },
      "execution_count": 32,
      "outputs": []
    },
    {
      "cell_type": "code",
      "source": [
        "print(\"Solution:\")\n",
        "print(population[bestSol])\n",
        "\n",
        "\n",
        "print(\"Objective Value:\")\n",
        "print(bestObj)"
      ],
      "metadata": {
        "colab": {
          "base_uri": "https://localhost:8080/"
        },
        "id": "W43GryeT9tn8",
        "outputId": "195b63f3-327d-4d7e-c5bf-0bfca1805953"
      },
      "execution_count": 33,
      "outputs": [
        {
          "output_type": "stream",
          "name": "stdout",
          "text": [
            "Solution:\n",
            "[8, 7, 1, 5, 2, 10, 9, 0, 4, 3, 6]\n",
            "Objective Value:\n",
            "178\n"
          ]
        }
      ]
    }
  ]
}